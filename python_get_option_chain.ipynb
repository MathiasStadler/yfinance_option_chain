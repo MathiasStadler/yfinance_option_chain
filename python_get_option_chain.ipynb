{
 "cells": [
  {
   "cell_type": "markdown",
   "metadata": {},
   "source": [
    "# [I'm try out this web site]"
   ]
  },
  {
   "cell_type": "markdown",
   "metadata": {},
   "source": [
    "## system env\n",
    "\n",
    "```bash\n",
    "uname -a\n",
    "Linux debian 6.1.0-26-amd64 #1 SMP PREEMPT_DYNAMIC Debian 6.1.112-1 (2024-09-30) x86_64 GNU/Linux\n",
    "python --version\n",
    "Python 3.11.2\n",
    "pip --version\n",
    "pip 24.2 from /home/trapapa/workspace_python/yfinance_option_chain/.venv/lib/python3.11/site-packages/pip (python 3.11)\n",
    "```"
   ]
  },
  {
   "cell_type": "markdown",
   "metadata": {},
   "source": [
    "## enter inside venv -- create by vscode menu\n",
    "\n",
    "```bash\n",
    "source .venv/bin/activate\n",
    "```\n"
   ]
  },
  {
   "cell_type": "markdown",
   "metadata": {},
   "source": [
    "## Install yfinance"
   ]
  },
  {
   "cell_type": "code",
   "execution_count": null,
   "metadata": {
    "vscode": {
     "languageId": "shellscript"
    }
   },
   "outputs": [],
   "source": [
    "pip install yfinance --upgrade --no-cache-dir"
   ]
  },
  {
   "cell_type": "markdown",
   "metadata": {},
   "source": [
    "Successfully installed \n",
    "beautifulsoup4-4.12.3 \n",
    "certifi-2024.8.30\n",
    "charset-normalizer-3.4.0\n",
    "frozendict-2.4.6\n",
    "html5lib-1.1\n",
    "idna-3.10\n",
    "lxml-5.3.0 \n",
    "multitasking-0.0.11 \n",
    "numpy-2.1.2 \n",
    "pandas-2.2.3 peewee-3.17.7 \n",
    "platformdirs-4.3.6 \n",
    "python-dateutil-2.9.0.post0 \n",
    "pytz-2024.2 \n",
    "requests-2.32.3 six-1.16.0 \n",
    "soupsieve-2.6 \n",
    "tzdata-2024.2 \n",
    "urllib3-2.2.3 \n",
    "webencodings-0.5.1 yfinance-0.2.46"
   ]
  },
  {
   "cell_type": "markdown",
   "metadata": {},
   "source": [
    "Quick Start"
   ]
  },
  {
   "cell_type": "code",
   "execution_count": null,
   "metadata": {
    "vscode": {
     "languageId": "shellscript"
    }
   },
   "outputs": [],
   "source": [
    "# get all stock info\n",
    "msft.info\n",
    "\n",
    "# get historical market data\n",
    "hist = msft.history(period=\"1mo\")\n",
    "\n",
    "# show meta information about the history (requires history() to be called first)\n",
    "msft.history_metadata\n",
    "\n",
    "# show actions (dividends, splits, capital gains)\n",
    "msft.actions\n",
    "msft.dividends\n",
    "msft.splits\n",
    "msft.capital_gains  # only for mutual funds & etfs\n",
    "\n",
    "# show share count\n",
    "msft.get_shares_full(start=\"2022-01-01\", end=None)\n",
    "\n",
    "# show financials:\n",
    "msft.calendar\n",
    "msft.sec_filings\n",
    "# - income statement\n",
    "msft.income_stmt\n",
    "msft.quarterly_income_stmt\n",
    "# - balance sheet\n",
    "msft.balance_sheet\n",
    "msft.quarterly_balance_sheet\n",
    "# - cash flow statement\n",
    "msft.cashflow\n",
    "msft.quarterly_cashflow\n",
    "# see `Ticker.get_income_stmt()` for more options\n",
    "\n",
    "# show holders\n",
    "msft.major_holders\n",
    "msft.institutional_holders\n",
    "msft.mutualfund_holders\n",
    "msft.insider_transactions\n",
    "msft.insider_purchases\n",
    "msft.insider_roster_holders\n",
    "\n",
    "msft.sustainability\n",
    "\n",
    "# show recommendations\n",
    "msft.recommendations\n",
    "msft.recommendations_summary\n",
    "msft.upgrades_downgrades\n",
    "\n",
    "# show analysts data\n",
    "msft.analyst_price_targets\n",
    "msft.earnings_estimate\n",
    "msft.revenue_estimate\n",
    "msft.earnings_history\n",
    "msft.eps_trend\n",
    "msft.eps_revisions\n",
    "msft.growth_estimates\n",
    "\n",
    "# Show future and historic earnings dates, returns at most next 4 quarters and last 8 quarters by default.\n",
    "# Note: If more are needed use msft.get_earnings_dates(limit=XX) with increased limit argument.\n",
    "msft.earnings_dates\n",
    "\n",
    "# show ISIN code - *experimental*\n",
    "# ISIN = International Securities Identification Number\n",
    "msft.isin\n",
    "\n",
    "# show options expirations\n",
    "msft.options\n",
    "\n",
    "# show news\n",
    "msft.news\n",
    "\n",
    "# get option chain for specific expiration\n",
    "opt = msft.option_chain('YYYY-MM-DD')\n",
    "# data available via: opt.calls, opt.puts"
   ]
  }
 ],
 "metadata": {
  "language_info": {
   "name": "python"
  }
 },
 "nbformat": 4,
 "nbformat_minor": 2
}
