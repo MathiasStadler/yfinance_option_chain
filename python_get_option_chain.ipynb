{
 "cells": [
  {
   "cell_type": "markdown",
   "metadata": {},
   "source": [
    "# [I'm try out this web site](https://aroussi.com/post/download-options-data)\n",
    "\n",
    "# https://aroussi.com/post/download-options-data"
   ]
  },
  {
   "cell_type": "markdown",
   "metadata": {},
   "source": [
    "## system env\n",
    "\n",
    "```bash\n",
    "uname -a\n",
    "Linux debian 6.1.0-26-amd64 #1 SMP PREEMPT_DYNAMIC Debian 6.1.112-1 (2024-09-30) x86_64 GNU/Linux\n",
    "python --version\n",
    "Python 3.11.2\n",
    "pip --version\n",
    "pip 24.2 from /home/trapapa/workspace_python/yfinance_option_chain/.venv/lib/python3.11/site-packages/pip (python 3.11)\n",
    "```"
   ]
  },
  {
   "cell_type": "markdown",
   "metadata": {},
   "source": [
    "## enter inside venv -- create by vscode menu\n",
    "\n",
    "```bash\n",
    "source .venv/bin/activate\n",
    "```\n"
   ]
  },
  {
   "cell_type": "markdown",
   "metadata": {},
   "source": [
    "## Install yfinance"
   ]
  },
  {
   "cell_type": "code",
   "execution_count": null,
   "metadata": {
    "vscode": {
     "languageId": "shellscript"
    }
   },
   "outputs": [],
   "source": [
    "pip install yfinance --upgrade --no-cache-dir"
   ]
  },
  {
   "cell_type": "markdown",
   "metadata": {},
   "source": [
    "Successfully installed \n",
    "beautifulsoup4-4.12.3 \n",
    "certifi-2024.8.30\n",
    "charset-normalizer-3.4.0\n",
    "frozendict-2.4.6\n",
    "html5lib-1.1\n",
    "idna-3.10\n",
    "lxml-5.3.0 \n",
    "multitasking-0.0.11 \n",
    "numpy-2.1.2 \n",
    "pandas-2.2.3 peewee-3.17.7 \n",
    "platformdirs-4.3.6 \n",
    "python-dateutil-2.9.0.post0 \n",
    "pytz-2024.2 \n",
    "requests-2.32.3 six-1.16.0 \n",
    "soupsieve-2.6 \n",
    "tzdata-2024.2 \n",
    "urllib3-2.2.3 \n",
    "webencodings-0.5.1 yfinance-0.2.46"
   ]
  },
  {
   "cell_type": "markdown",
   "metadata": {},
   "source": [
    "Quick Start"
   ]
  },
  {
   "cell_type": "code",
   "execution_count": 4,
   "metadata": {
    "vscode": {
     "languageId": "shellscript"
    }
   },
   "outputs": [],
   "source": [
    "import yfinance as yf\n",
    "aapl = yf.Ticker(\"AAPL\")\n",
    "\n",
    "\n"
   ]
  }
 ],
 "metadata": {
  "kernelspec": {
   "display_name": ".venv",
   "language": "python",
   "name": "python3"
  },
  "language_info": {
   "codemirror_mode": {
    "name": "ipython",
    "version": 3
   },
   "file_extension": ".py",
   "mimetype": "text/x-python",
   "name": "python",
   "nbconvert_exporter": "python",
   "pygments_lexer": "ipython3",
   "version": "3.11.2"
  }
 },
 "nbformat": 4,
 "nbformat_minor": 2
}
